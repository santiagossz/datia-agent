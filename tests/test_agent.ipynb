{
 "cells": [
  {
   "cell_type": "code",
   "execution_count": 2,
   "metadata": {},
   "outputs": [],
   "source": [
    "# %load_ext autoreload\n",
    "# %autoreload 2\n",
    "\n",
    "import requests\n",
    "import uuid\n",
    "import plotly.io as pio\n",
    "from IPython.display import Image\n",
    "\n",
    "url = \"http://localhost:8000\"\n",
    "\n",
    "from app.api.agents import graph\n",
    "# display(Image(graph.get_graph().draw_mermaid_png()))\n",
    "\n",
    "\n"
   ]
  },
  {
   "cell_type": "code",
   "execution_count": 50,
   "metadata": {},
   "outputs": [],
   "source": [
    "session_id = str(uuid.uuid4())\n",
    "session_id\n",
    "payload = {\n",
    "    \"msg\": \"cuantas ventas realicé cada semana en enero por hombre y mujer para el productos de Beauty?\",\n",
    "    \"session_id\": session_id\n",
    "}\n",
    "\n",
    "# payload = {\n",
    "#     \"msg\": \"hola?\",\n",
    "#     \"session_id\": session_id\n",
    "# }\n",
    "res = requests.post(f\"{url}/test\", params=payload)\n",
    "payload = {\"session_id\": session_id}\n",
    "res = requests.post(f\"{url}/validate_data\",params=payload)"
   ]
  },
  {
   "cell_type": "code",
   "execution_count": 51,
   "metadata": {},
   "outputs": [],
   "source": [
    "payload = {\"human_input\": \"si\", \"session_id\": session_id}\n",
    "res = requests.post(f\"{url}/validate_plot\",params=payload)"
   ]
  },
  {
   "cell_type": "code",
   "execution_count": 54,
   "metadata": {},
   "outputs": [],
   "source": [
    "messages = requests.get(f\"{url}/memory\", params={\"session_id\": session_id}).json()\n",
    "fig = messages[\"plot\"][-2]\n",
    "# fig = fig.strip(\"```json\").strip(\"```\").strip()\n",
    "# fig_1 = messages[\"new_plot\"][-1][\"content\"]\n",
    "# fig_1 = fig_1.strip(\"```json\").strip(\"```\").strip()"
   ]
  },
  {
   "cell_type": "code",
   "execution_count": null,
   "metadata": {},
   "outputs": [],
   "source": []
  }
 ],
 "metadata": {
  "kernelspec": {
   "display_name": ".venv",
   "language": "python",
   "name": "python3"
  },
  "language_info": {
   "codemirror_mode": {
    "name": "ipython",
    "version": 3
   },
   "file_extension": ".py",
   "mimetype": "text/x-python",
   "name": "python",
   "nbconvert_exporter": "python",
   "pygments_lexer": "ipython3",
   "version": "3.13.2"
  }
 },
 "nbformat": 4,
 "nbformat_minor": 2
}
